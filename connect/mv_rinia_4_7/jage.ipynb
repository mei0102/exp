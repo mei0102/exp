{
 "cells": [
  {
   "cell_type": "markdown",
   "metadata": {},
   "source": [
    "通信継続・切断時間を算出する。\n"
   ]
  },
  {
   "cell_type": "code",
   "execution_count": 1,
   "metadata": {},
   "outputs": [],
   "source": [
    "import pandas as pd\n",
    "import numpy as np\n",
    "import matplotlib.pyplot as plt\n",
    "\n",
    "from matplotlib import rcParams\n",
    "rcParams.update({'figure.autolayout': True})\n",
    "\n",
    "import os\n",
    "if os.path.exists(\"jage\") == False:\n",
    "\tos.mkdir(\"jage\")\n",
    "\n"
   ]
  },
  {
   "cell_type": "code",
   "execution_count": 2,
   "metadata": {},
   "outputs": [
    {
     "ename": "NameError",
     "evalue": "name 's' is not defined",
     "output_type": "error",
     "traceback": [
      "\u001b[0;31m---------------------------------------------------------------------------\u001b[0m",
      "\u001b[0;31mNameError\u001b[0m                                 Traceback (most recent call last)",
      "\u001b[1;32mセル3 を /Users/nakajimaakihiko/dev/soka_exp/exp/connect/mv_rinia_4_7/jage.ipynb\u001b[0m in \u001b[0;36m<cell line: 1>\u001b[0;34m()\u001b[0m\n\u001b[0;32m----> <a href='vscode-notebook-cell:/Users/nakajimaakihiko/dev/soka_exp/exp/connect/mv_rinia_4_7/jage.ipynb#W2sZmlsZQ%3D%3D?line=0'>1</a>\u001b[0m node_sen\u001b[39m=\u001b[39mpd\u001b[39m.\u001b[39mread_csv(\u001b[39m\"\u001b[39m\u001b[39mbetween_ter/Seed\u001b[39m\u001b[39m{0}\u001b[39;00m\u001b[39m-Node\u001b[39m\u001b[39m{1}\u001b[39;00m\u001b[39m.csv\u001b[39m\u001b[39m\"\u001b[39m \u001b[39m.\u001b[39mformat(s, i) ,header\u001b[39m=\u001b[39m\u001b[39m0\u001b[39m, names\u001b[39m=\u001b[39mname)\n\u001b[1;32m      <a href='vscode-notebook-cell:/Users/nakajimaakihiko/dev/soka_exp/exp/connect/mv_rinia_4_7/jage.ipynb#W2sZmlsZQ%3D%3D?line=2'>3</a>\u001b[0m node_ratio \u001b[39m=\u001b[39m node_sen[(node_sen[\u001b[39m'\u001b[39m\u001b[39mtime\u001b[39m\u001b[39m'\u001b[39m] \u001b[39m<\u001b[39m \u001b[39m181\u001b[39m)]\n\u001b[1;32m      <a href='vscode-notebook-cell:/Users/nakajimaakihiko/dev/soka_exp/exp/connect/mv_rinia_4_7/jage.ipynb#W2sZmlsZQ%3D%3D?line=5'>6</a>\u001b[0m connect \u001b[39m=\u001b[39m node_ratio[(\u001b[39m80\u001b[39m \u001b[39m<\u001b[39m node_ratio[\u001b[39m'\u001b[39m\u001b[39msize\u001b[39m\u001b[39m'\u001b[39m]) \u001b[39m&\u001b[39m (node_ratio[\u001b[39m'\u001b[39m\u001b[39msize\u001b[39m\u001b[39m'\u001b[39m] \u001b[39m<\u001b[39m \u001b[39m112\u001b[39m)]\n",
      "\u001b[0;31mNameError\u001b[0m: name 's' is not defined"
     ]
    }
   ],
   "source": [
    "\n",
    "\n",
    "node_sen=pd.read_csv(\"between_ter/Seed{0}-Node{1}.csv\" .format(s, i) ,header=0, names=name)\n",
    "\n",
    "node_ratio = node_sen[(node_sen['time'] < 181)]\n",
    "\n",
    "\n",
    "connect = node_ratio[(80 < node_ratio['size']) & (node_ratio['size'] < 112)]\n",
    "disconnect = node_ratio[(node_ratio['size'] < 80) | (node_ratio['size'] > 112)]\n",
    "\n",
    "node=pd.read_csv(\"jage/Seed{0}-Node{1}_disconnect.csv\" .format(s, i) ,header=0, names=name)\n",
    "\n"
   ]
  },
  {
   "cell_type": "code",
   "execution_count": 3,
   "metadata": {},
   "outputs": [],
   "source": [
    "#試行回数を入力させる\n",
    "a = 1 #start\n",
    "b = 10 #end\n",
    "#実行したsimの最大node数入力\n",
    "n = 4\n",
    "\n",
    "\n",
    "#name=['no','time','c','d','src','dst','size','h','i','j','k','l','m','n','o','p']\n",
    "name=['time','size']\n",
    "i=1\n",
    "s=a-1\n",
    "\n",
    "while s<b:\n",
    "    s+=1    \n",
    "    while i<n:\n",
    "        #csvの読み込み\n",
    "        \n",
    "        node_sen=pd.read_csv(\"between_ter/Seed{0}-Node{1}.csv\" .format(s, i) ,header=0, names=name)\n",
    "        node_ratio = node_sen[(node_sen['time'] < 181)]#180秒までの比率を抽出\n",
    "\n",
    "        connect = node_ratio[(80 < node_ratio['size']) & (node_ratio['size'] < 112)]\n",
    "        disconnect = node_ratio[(node_ratio['size'] < 80) | (node_ratio['size'] > 112)]\n",
    "\n",
    "\t    #グラフをプロットして保存\n",
    "        disconnect.plot(legend=False, color='black')\n",
    "        plt.xlabel(\"Time(Second)\", fontsize=15)\n",
    "        plt.ylabel(\"ratio(%)\", fontsize=15)\n",
    "        plt.xlim([0,240])\n",
    "        plt.ylim([0,240])\n",
    "        plt.xticks(fontsize=13)\n",
    "        plt.yticks(fontsize=15)\n",
    "        plt.savefig(\"jage/Seed{0}-Node{1}graph.jpg\" .format(s, i))\n",
    "\t    #これやらないとメモリがやばい\n",
    "        plt.close('all')\n",
    "        connect.to_csv(\"jage/Seed{0}-Node{1}_connect.csv\" .format(s, i), header=0,index=None)\n",
    "        disconnect.to_csv(\"jage/Seed{0}-Node{1}_disconnect.csv\" .format(s, i), header=0,index=None)\n",
    "        i+=1\n",
    "    i=1\n",
    "\n"
   ]
  },
  {
   "attachments": {},
   "cell_type": "markdown",
   "metadata": {},
   "source": [
    "途絶時間算出\n",
    "if値が前の値より+1だったら：　time_sum += 1;\n",
    "else： print(time_sum) discon_time += time_sum; time_sum = 0; 次の配列へ"
   ]
  },
  {
   "cell_type": "code",
   "execution_count": 4,
   "metadata": {},
   "outputs": [],
   "source": [
    "import pandas as pd\n",
    "import numpy as np\n",
    "import matplotlib.pyplot as plt\n",
    "\n",
    "from matplotlib import rcParams\n",
    "rcParams.update({'figure.autolayout': True})\n",
    "\n",
    "import os\n",
    "if os.path.exists(\"disconnect_time\") == False:\n",
    "\tos.mkdir(\"disconnect_time\")\n"
   ]
  },
  {
   "cell_type": "code",
   "execution_count": 31,
   "metadata": {},
   "outputs": [
    {
     "name": "stdout",
     "output_type": "stream",
     "text": [
      "13.2\n"
     ]
    }
   ],
   "source": [
    "#試行回数を入力させる\n",
    "a =  1#start\n",
    "b = 10 #end\n",
    "#実行したsimの最大node数入力\n",
    "n = 4\n",
    "\n",
    "#name=['no','time','c','d','src','dst','size','h','i','j','k','l','m','n','o','p']\n",
    "name=['time','size']\n",
    "i=1\n",
    "s=a-1\n",
    "time = 0\n",
    "time1 = 0\n",
    "time2 = 0\n",
    "time3 = 0\n",
    "while s<b:\n",
    "    s+=1    \n",
    "    while i<n:\n",
    "        #csvの読み込み\n",
    "        node_ratio=pd.read_csv(\"jage/Seed{0}-Node{1}_disconnect.csv\" .format(s, i) ,header=0, names=name)\n",
    "        if(i == 1): time1 = (len(node_ratio))\n",
    "        elif(i == 2): time2 = (len(node_ratio))\n",
    "        elif(i == 3): time3 = (len(node_ratio))\n",
    "        i+=1\n",
    "    time = time + (time3 - time1)\n",
    "    i=1\n",
    "print(time/10)\n",
    "\n"
   ]
  }
 ],
 "metadata": {
  "kernelspec": {
   "display_name": "Python 3.9.12 ('base')",
   "language": "python",
   "name": "python3"
  },
  "language_info": {
   "codemirror_mode": {
    "name": "ipython",
    "version": 3
   },
   "file_extension": ".py",
   "mimetype": "text/x-python",
   "name": "python",
   "nbconvert_exporter": "python",
   "pygments_lexer": "ipython3",
   "version": "3.9.12"
  },
  "orig_nbformat": 4,
  "vscode": {
   "interpreter": {
    "hash": "79945c9ebb170095c53fcb180b664fc7da79d3930f869a7cff8226c52b1f8fc5"
   }
  }
 },
 "nbformat": 4,
 "nbformat_minor": 2
}
